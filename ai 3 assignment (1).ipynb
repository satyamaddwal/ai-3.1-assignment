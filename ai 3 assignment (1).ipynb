{
 "cells": [
  {
   "cell_type": "code",
   "execution_count": 1,
   "id": "7fc407d3-f1d9-43ff-b04f-31f1b1a6cdc6",
   "metadata": {},
   "outputs": [
    {
     "data": {
      "text/plain": [
       "' \\npython keywords are special reserved words that have specific meanings and purposes within the python.\\nthese keywords cannot be redefined or modified and serve as fundamental building blocks for any python \\nprogram and we cannot assign any value to keywords. there thirty-five keywords in python\\n\\nfor ex - while , True, and, or , else etc...\\n'"
      ]
     },
     "execution_count": 1,
     "metadata": {},
     "output_type": "execute_result"
    }
   ],
   "source": [
    "''' Question 1. Explain the significance of Python keywords and provide examples of five keywords.  '''\n",
    "\n",
    "# solution\n",
    "''' \n",
    "python keywords are special reserved words that have specific meanings and purposes within the python.\n",
    "these keywords cannot be redefined or modified and serve as fundamental building blocks for any python \n",
    "program and we cannot assign any value to keywords. there thirty-five keywords in python\n",
    "\n",
    "for ex - while , True, and, or , else etc...\n",
    "'''"
   ]
  },
  {
   "cell_type": "code",
   "execution_count": 4,
   "id": "3fc26a63-23b2-41a3-b1d4-514c8634e985",
   "metadata": {},
   "outputs": [
    {
     "data": {
      "text/plain": [
       "'\\nRules for defining identifiers\\n\\n* we can not use keywords as identifiers\\n*identifiers can contain letters,digits and underscore\\n*identifiers can not start with a digit\\n* identifier can not consist solely of digit\\n* identifiers can start with underscore\\n* their is no limit on the lenght of identifiers\\n* python identifiers are case - sensitive\\n\\nfor ex - abc_45, _fgf7T, D_khv etc\\n'"
      ]
     },
     "execution_count": 4,
     "metadata": {},
     "output_type": "execute_result"
    }
   ],
   "source": [
    "''' Question 2. Describe the rules for defining identifiers in Python and provide an example.  '''\n",
    "\n",
    "# solution\n",
    "'''\n",
    "Rules for defining identifiers\n",
    "\n",
    "* we can not use keywords as identifiers\n",
    "*identifiers can contain letters,digits and underscore\n",
    "*identifiers can not start with a digit\n",
    "* identifier can not consist solely of digit\n",
    "* identifiers can start with underscore\n",
    "* their is no limit on the lenght of identifiers\n",
    "* python identifiers are case - sensitive\n",
    "\n",
    "for ex - abc_45, _fgf7T, D_khv etc\n",
    "'''"
   ]
  },
  {
   "cell_type": "code",
   "execution_count": 5,
   "id": "a4061db3-ac55-4f70-b411-93c3401f18bf",
   "metadata": {},
   "outputs": [
    {
     "data": {
      "text/plain": [
       "'\\ncomments in python are lines within the code that are ignored by the intrepreter during program execution. they are useful because\\nthey help in ehancing code readability , explaining code to others and documenting steps and function needs. they can be single lined,\\nand multi-lined.\\n\\nfor ex-\\n# hi my name is satyam \\n'"
      ]
     },
     "execution_count": 5,
     "metadata": {},
     "output_type": "execute_result"
    }
   ],
   "source": [
    "''' Question 3. What are comments in Python, and why are they useful? Provide an example.  '''\n",
    "\n",
    "# solution \n",
    "'''\n",
    "comments in python are lines within the code that are ignored by the intrepreter during program execution. they are useful because\n",
    "they help in ehancing code readability , explaining code to others and documenting steps and function needs. they can be single lined,\n",
    "and multi-lined.\n",
    "\n",
    "for ex-\n",
    "# hi my name is satyam \n",
    "'''\n"
   ]
  },
  {
   "cell_type": "code",
   "execution_count": 6,
   "id": "eccaaf08-f20a-4b1e-bcfa-a0ca22cb084d",
   "metadata": {},
   "outputs": [
    {
     "data": {
      "text/plain": [
       "\"\\nIndentation helps breakup up long blocks of code , making it easier to visually identify logical sections. well-idented codes improves\\nreadability, allowing developers to quickly understand the program's structure and consistent indentation helps us to identify which line\\nof code belongs to the same block. it clarifies the hierarcy of nested structures. incorrect indentation can lead to indentation error during\\ncompilation.\\n\""
      ]
     },
     "execution_count": 6,
     "metadata": {},
     "output_type": "execute_result"
    }
   ],
   "source": [
    "''' Question 4. Why is proper indentation important in Python?  '''\n",
    "\n",
    "# solution\n",
    "'''\n",
    "Indentation helps breakup up long blocks of code , making it easier to visually identify logical sections. well-idented codes improves\n",
    "readability, allowing developers to quickly understand the program's structure and consistent indentation helps us to identify which line\n",
    "of code belongs to the same block. it clarifies the hierarcy of nested structures. incorrect indentation can lead to indentation error during\n",
    "compilation.\n",
    "'''"
   ]
  },
  {
   "cell_type": "code",
   "execution_count": 7,
   "id": "3310e492-5bc7-40cf-97da-4c6c7ed852c7",
   "metadata": {},
   "outputs": [
    {
     "data": {
      "text/plain": [
       "\"\\nIncorrect indentation in python can lead to various issues, including syntax errors and unexpected behaviour. if indentation is\\nincorrect, python raises an indentation error during compilation. incorrect indentation can cause statements to be associated with\\nthe wrong block.this leads to logical error.proper indentation is crucial for nested structures. if nested blocks are not indented\\ncoreectly , the program won't execute as intended and incorrect indentation makes it challenging to identify the logical flow of the \\nprogram.\\n\""
      ]
     },
     "execution_count": 7,
     "metadata": {},
     "output_type": "execute_result"
    }
   ],
   "source": [
    "''' Question 5. What happens if indentation is incorrect in Python.  '''\n",
    "\n",
    "# solution\n",
    "'''\n",
    "Incorrect indentation in python can lead to various issues, including syntax errors and unexpected behaviour. if indentation is\n",
    "incorrect, python raises an indentation error during compilation. incorrect indentation can cause statements to be associated with\n",
    "the wrong block.this leads to logical error.proper indentation is crucial for nested structures. if nested blocks are not indented\n",
    "coreectly , the program won't execute as intended and incorrect indentation makes it challenging to identify the logical flow of the \n",
    "program.\n",
    "'''"
   ]
  },
  {
   "cell_type": "code",
   "execution_count": 1,
   "id": "cb207d65-7cf7-406c-8fd7-41fdbabc6b3b",
   "metadata": {},
   "outputs": [
    {
     "data": {
      "text/plain": [
       "\"\\n1. Expressions:\\n\\n* An expression always evaluates to a value and it can be reduced to some kind of 'value' which can be any python object.\\nexpression contains identifiers, literals, operators and function calls.\\nex- 5+4, map(lambda x : x*x, range(10)) etc.\\n\\n2. Statements :\\n\\n* Statements are everything that can make up a line of python code. they do something and can include expression. statements \\ncontains conditional statements, loop statements, assignment statements and function definitions.\\n\""
      ]
     },
     "execution_count": 1,
     "metadata": {},
     "output_type": "execute_result"
    }
   ],
   "source": [
    "''' Question 6. Differentiate between expression and statement in Python with examples.  '''\n",
    "\n",
    "# solution\n",
    "'''\n",
    "1. Expressions:\n",
    "\n",
    "* An expression always evaluates to a value and it can be reduced to some kind of 'value' which can be any python object.\n",
    "expression contains identifiers, literals, operators and function calls.\n",
    "ex- 5+4, map(lambda x : x*x, range(10)) etc.\n",
    "\n",
    "2. Statements :\n",
    "\n",
    "* Statements are everything that can make up a line of python code. they do something and can include expression. statements \n",
    "contains conditional statements, loop statements, assignment statements and function definitions.\n",
    "'''"
   ]
  },
  {
   "cell_type": "code",
   "execution_count": null,
   "id": "561067e0-4ef0-4e13-b877-c4311d398d6f",
   "metadata": {},
   "outputs": [],
   "source": []
  }
 ],
 "metadata": {
  "kernelspec": {
   "display_name": "Python 3 (ipykernel)",
   "language": "python",
   "name": "python3"
  },
  "language_info": {
   "codemirror_mode": {
    "name": "ipython",
    "version": 3
   },
   "file_extension": ".py",
   "mimetype": "text/x-python",
   "name": "python",
   "nbconvert_exporter": "python",
   "pygments_lexer": "ipython3",
   "version": "3.10.8"
  }
 },
 "nbformat": 4,
 "nbformat_minor": 5
}
